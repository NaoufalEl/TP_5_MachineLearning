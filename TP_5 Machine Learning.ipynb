{
 "cells": [
  {
   "cell_type": "markdown",
   "id": "bca002c0",
   "metadata": {
    "_cell_guid": "b1076dfc-b9ad-4769-8c92-a6c4dae69d19",
    "_uuid": "8f2839f25d086af736a60e9eeb907d3b93b6e0e5",
    "execution": {
     "iopub.execute_input": "2023-05-29T09:30:14.468685Z",
     "iopub.status.busy": "2023-05-29T09:30:14.468261Z",
     "iopub.status.idle": "2023-05-29T09:30:17.325739Z",
     "shell.execute_reply": "2023-05-29T09:30:17.324358Z"
    },
    "papermill": {
     "duration": 2.871108,
     "end_time": "2023-05-29T09:30:17.329071",
     "exception": false,
     "start_time": "2023-05-29T09:30:14.457963",
     "status": "completed"
    },
    "tags": []
   },
   "source": [
    "### I- Importation des librairies"
   ]
  },
  {
   "cell_type": "code",
   "execution_count": 45,
   "id": "a7de84ae",
   "metadata": {},
   "outputs": [],
   "source": [
    "import os\n",
    "import pandas as pd\n",
    "import warnings\n",
    "warnings.filterwarnings('ignore')\n",
    "import numpy as np\n",
    "import gc\n",
    "import lightgbm as lgb\n",
    "import joblib\n",
    "from lightgbm import LGBMRegressor\n",
    "from xgboost import XGBRegressor\n",
    "from catboost import CatBoostRegressor"
   ]
  },
  {
   "cell_type": "markdown",
   "id": "7a73f39c",
   "metadata": {},
   "source": [
    "### II- Importation des données"
   ]
  },
  {
   "cell_type": "code",
   "execution_count": 46,
   "id": "0157b16a",
   "metadata": {
    "execution": {
     "iopub.execute_input": "2023-05-29T09:30:17.347838Z",
     "iopub.status.busy": "2023-05-29T09:30:17.347018Z",
     "iopub.status.idle": "2023-05-29T09:30:30.865183Z",
     "shell.execute_reply": "2023-05-29T09:30:30.863948Z"
    },
    "papermill": {
     "duration": 13.530459,
     "end_time": "2023-05-29T09:30:30.867905",
     "exception": false,
     "start_time": "2023-05-29T09:30:17.337446",
     "status": "completed"
    },
    "tags": []
   },
   "outputs": [
    {
     "name": "stdout",
     "output_type": "stream",
     "text": [
      "Wall time: 8.69 s\n"
     ]
    }
   ],
   "source": [
    "%%time\n",
    "calendar = pd.read_csv(r\"C:\\Users\\naouf\\OneDrive\\Bureau\\Datas\\calendar.csv\")\n",
    "train_eva = pd.read_csv(r\"C:\\Users\\naouf\\OneDrive\\Bureau\\Datas\\sales_train_evaluation.csv\")\n",
    "sell_prices = pd.read_csv(r\"C:\\Users\\naouf\\OneDrive\\Bureau\\Datas\\sell_prices.csv\")\n",
    "sample_sub = pd.read_csv(r\"C:\\Users\\naouf\\OneDrive\\Bureau\\Datas\\sample_submission.csv\")"
   ]
  },
  {
   "cell_type": "code",
   "execution_count": 47,
   "id": "0166286b",
   "metadata": {
    "execution": {
     "iopub.execute_input": "2023-05-29T09:30:30.886208Z",
     "iopub.status.busy": "2023-05-29T09:30:30.885831Z",
     "iopub.status.idle": "2023-05-29T09:30:30.925437Z",
     "shell.execute_reply": "2023-05-29T09:30:30.924343Z"
    },
    "papermill": {
     "duration": 0.052009,
     "end_time": "2023-05-29T09:30:30.928117",
     "exception": false,
     "start_time": "2023-05-29T09:30:30.876108",
     "status": "completed"
    },
    "tags": []
   },
   "outputs": [],
   "source": [
    "for d in range(1942,1970):\n",
    "    col = 'd_' + str(d)\n",
    "    train_eva[col] = 0\n",
    "    train_eva[col] = train_eva[col].astype(np.int16)"
   ]
  },
  {
   "cell_type": "markdown",
   "id": "ac23eaef",
   "metadata": {},
   "source": [
    "#### Fonction permettant le downcast des données"
   ]
  },
  {
   "cell_type": "code",
   "execution_count": 48,
   "id": "5d3d3f12",
   "metadata": {
    "execution": {
     "iopub.execute_input": "2023-05-29T09:30:30.946561Z",
     "iopub.status.busy": "2023-05-29T09:30:30.945855Z",
     "iopub.status.idle": "2023-05-29T09:30:30.962042Z",
     "shell.execute_reply": "2023-05-29T09:30:30.960966Z"
    },
    "papermill": {
     "duration": 0.027786,
     "end_time": "2023-05-29T09:30:30.964233",
     "exception": false,
     "start_time": "2023-05-29T09:30:30.936447",
     "status": "completed"
    },
    "tags": []
   },
   "outputs": [],
   "source": [
    "def downcast(df):\n",
    "    cols = df.dtypes.index.tolist()\n",
    "    types = df.dtypes.values.tolist()\n",
    "    for i,t in enumerate(types):\n",
    "        if 'int' in str(t):\n",
    "            if df[cols[i]].min() > np.iinfo(np.int8).min and df[cols[i]].max() < np.iinfo(np.int8).max:\n",
    "                df[cols[i]] = df[cols[i]].astype(np.int8)\n",
    "            elif df[cols[i]].min() > np.iinfo(np.int16).min and df[cols[i]].max() < np.iinfo(np.int16).max:\n",
    "                df[cols[i]] = df[cols[i]].astype(np.int16)\n",
    "            elif df[cols[i]].min() > np.iinfo(np.int32).min and df[cols[i]].max() < np.iinfo(np.int32).max:\n",
    "                df[cols[i]] = df[cols[i]].astype(np.int32)\n",
    "            else:\n",
    "                df[cols[i]] = df[cols[i]].astype(np.int64)\n",
    "        elif 'float' in str(t):\n",
    "            if df[cols[i]].min() > np.finfo(np.float16).min and df[cols[i]].max() < np.finfo(np.float16).max:\n",
    "                df[cols[i]] = df[cols[i]].astype(np.float16)\n",
    "            elif df[cols[i]].min() > np.finfo(np.float32).min and df[cols[i]].max() < np.finfo(np.float32).max:\n",
    "                df[cols[i]] = df[cols[i]].astype(np.float32)\n",
    "            else:\n",
    "                df[cols[i]] = df[cols[i]].astype(np.float64)\n",
    "        elif t == np.object:\n",
    "            if cols[i] == 'date':\n",
    "                df[cols[i]] = pd.to_datetime(df[cols[i]], format='%Y-%m-%d')\n",
    "            else:\n",
    "                df[cols[i]] = df[cols[i]].astype('category')\n",
    "    return df  "
   ]
  },
  {
   "cell_type": "code",
   "execution_count": 49,
   "id": "12d1ac9e",
   "metadata": {
    "execution": {
     "iopub.execute_input": "2023-05-29T09:30:30.983890Z",
     "iopub.status.busy": "2023-05-29T09:30:30.983486Z",
     "iopub.status.idle": "2023-05-29T09:30:31.237988Z",
     "shell.execute_reply": "2023-05-29T09:30:31.236348Z"
    },
    "papermill": {
     "duration": 0.266504,
     "end_time": "2023-05-29T09:30:31.240524",
     "exception": false,
     "start_time": "2023-05-29T09:30:30.974020",
     "status": "completed"
    },
    "tags": []
   },
   "outputs": [
    {
     "name": "stdout",
     "output_type": "stream",
     "text": [
      "<class 'pandas.core.frame.DataFrame'>\n",
      "RangeIndex: 30490 entries, 0 to 30489\n",
      "Columns: 1975 entries, id to d_1969\n",
      "dtypes: int16(28), int64(1941), object(6)\n",
      "memory usage: 454.5+ MB\n"
     ]
    }
   ],
   "source": [
    "train_eva.info()"
   ]
  },
  {
   "cell_type": "code",
   "execution_count": 50,
   "id": "e1c367a4",
   "metadata": {
    "execution": {
     "iopub.execute_input": "2023-05-29T09:30:31.258865Z",
     "iopub.status.busy": "2023-05-29T09:30:31.258447Z",
     "iopub.status.idle": "2023-05-29T09:33:30.813045Z",
     "shell.execute_reply": "2023-05-29T09:33:30.811926Z"
    },
    "papermill": {
     "duration": 179.5745,
     "end_time": "2023-05-29T09:33:30.823346",
     "exception": false,
     "start_time": "2023-05-29T09:30:31.248846",
     "status": "completed"
    },
    "tags": []
   },
   "outputs": [
    {
     "name": "stdout",
     "output_type": "stream",
     "text": [
      "Downcasting data\n",
      "Wall time: 3min 11s\n"
     ]
    }
   ],
   "source": [
    "%%time\n",
    "print(\"Downcasting data\")\n",
    "train_eva = downcast(train_eva)\n",
    "sell_prices = downcast(sell_prices)\n",
    "calendar = downcast(calendar)"
   ]
  },
  {
   "cell_type": "code",
   "execution_count": 51,
   "id": "7c532985",
   "metadata": {
    "execution": {
     "iopub.execute_input": "2023-05-29T09:33:30.842399Z",
     "iopub.status.busy": "2023-05-29T09:33:30.841986Z",
     "iopub.status.idle": "2023-05-29T09:33:30.965313Z",
     "shell.execute_reply": "2023-05-29T09:33:30.964106Z"
    },
    "papermill": {
     "duration": 0.136027,
     "end_time": "2023-05-29T09:33:30.967924",
     "exception": false,
     "start_time": "2023-05-29T09:33:30.831897",
     "status": "completed"
    },
    "tags": []
   },
   "outputs": [
    {
     "name": "stdout",
     "output_type": "stream",
     "text": [
      "<class 'pandas.core.frame.DataFrame'>\n",
      "RangeIndex: 30490 entries, 0 to 30489\n",
      "Columns: 1975 entries, id to d_1969\n",
      "dtypes: category(6), int16(1317), int8(652)\n",
      "memory usage: 97.1 MB\n"
     ]
    }
   ],
   "source": [
    "train_eva.info()"
   ]
  },
  {
   "cell_type": "code",
   "execution_count": 52,
   "id": "ed40ccd6",
   "metadata": {
    "execution": {
     "iopub.execute_input": "2023-05-29T09:33:30.987746Z",
     "iopub.status.busy": "2023-05-29T09:33:30.986612Z",
     "iopub.status.idle": "2023-05-29T09:33:40.394547Z",
     "shell.execute_reply": "2023-05-29T09:33:40.393272Z"
    },
    "papermill": {
     "duration": 9.420312,
     "end_time": "2023-05-29T09:33:40.396970",
     "exception": false,
     "start_time": "2023-05-29T09:33:30.976658",
     "status": "completed"
    },
    "tags": []
   },
   "outputs": [
    {
     "name": "stdout",
     "output_type": "stream",
     "text": [
      "Melting data\n",
      "Wall time: 7.83 s\n"
     ]
    }
   ],
   "source": [
    "%%time\n",
    "print(\"Melting data\")\n",
    "df = pd.melt(frame=train_eva, \n",
    "             id_vars=[\"id\", \"item_id\", \"dept_id\", \"cat_id\", \"store_id\", \"state_id\"],\n",
    "             var_name=\"d\", value_name=\"sold\")"
   ]
  },
  {
   "cell_type": "code",
   "execution_count": 53,
   "id": "ef9a0283",
   "metadata": {
    "execution": {
     "iopub.execute_input": "2023-05-29T09:33:40.417643Z",
     "iopub.status.busy": "2023-05-29T09:33:40.416617Z",
     "iopub.status.idle": "2023-05-29T09:34:24.502739Z",
     "shell.execute_reply": "2023-05-29T09:34:24.501403Z"
    },
    "papermill": {
     "duration": 44.107841,
     "end_time": "2023-05-29T09:34:24.513861",
     "exception": false,
     "start_time": "2023-05-29T09:33:40.406020",
     "status": "completed"
    },
    "tags": []
   },
   "outputs": [
    {
     "name": "stdout",
     "output_type": "stream",
     "text": [
      "Merging data\n",
      "Wall time: 34.1 s\n"
     ]
    }
   ],
   "source": [
    "%%time\n",
    "print(\"Merging data\")\n",
    "df = pd.merge(left=df, right=calendar, how=\"left\", on=\"d\")\n",
    "df = pd.merge(left=df, right=sell_prices, on=[\"store_id\", \"item_id\", \"wm_yr_wk\"], how=\"left\")"
   ]
  },
  {
   "cell_type": "code",
   "execution_count": 54,
   "id": "2294dfe7",
   "metadata": {
    "execution": {
     "iopub.execute_input": "2023-05-29T09:34:24.534484Z",
     "iopub.status.busy": "2023-05-29T09:34:24.534043Z",
     "iopub.status.idle": "2023-05-29T09:35:10.548981Z",
     "shell.execute_reply": "2023-05-29T09:35:10.547631Z"
    },
    "papermill": {
     "duration": 46.035355,
     "end_time": "2023-05-29T09:35:10.558390",
     "exception": false,
     "start_time": "2023-05-29T09:34:24.523035",
     "status": "completed"
    },
    "tags": []
   },
   "outputs": [
    {
     "name": "stdout",
     "output_type": "stream",
     "text": [
      "Implement features\n",
      "Wall time: 24.7 s\n"
     ]
    }
   ],
   "source": [
    "%%time\n",
    "print(\"Implement features\")\n",
    "df[\"snap\"] = df[\"snap_CA\"] + df[\"snap_TX\"] + df[\"snap_WI\"]\n",
    "df[\"snap\"] = np.where(df[\"snap\"] >= 1, 1, 0).astype(np.int8)\n",
    "\n",
    "df[\"d\"] = df[\"d\"].str[2:].astype(np.int16)\n",
    "\n",
    "df[\"sell_price\"] = df['sell_price'].fillna(df.groupby('id')['sell_price'].transform('median'))\n",
    "\n",
    "df[\"weekend\"] = np.where(df[\"wday\"] < 3, 1, 0).astype(np.int8)\n",
    "df = df.drop([\"date\", \"weekday\", \"wm_yr_wk\", \"event_name_2\", \"event_type_2\", \"snap_CA\", \"snap_TX\", \"snap_WI\"], axis=1)"
   ]
  },
  {
   "cell_type": "code",
   "execution_count": 55,
   "id": "e552caae",
   "metadata": {
    "execution": {
     "iopub.execute_input": "2023-05-29T09:35:10.579269Z",
     "iopub.status.busy": "2023-05-29T09:35:10.578864Z",
     "iopub.status.idle": "2023-05-29T09:35:29.279246Z",
     "shell.execute_reply": "2023-05-29T09:35:29.278315Z"
    },
    "papermill": {
     "duration": 18.713945,
     "end_time": "2023-05-29T09:35:29.281773",
     "exception": false,
     "start_time": "2023-05-29T09:35:10.567828",
     "status": "completed"
    },
    "tags": []
   },
   "outputs": [
    {
     "name": "stdout",
     "output_type": "stream",
     "text": [
      "Label Encoding\n"
     ]
    }
   ],
   "source": [
    "print(\"Label Encoding\")\n",
    "d_id = dict(zip(df[\"id\"].cat.codes, df[\"id\"]))\n",
    "df[\"id\"] = df[\"id\"].cat.codes\n",
    "df[\"item_id\"] = df[\"item_id\"].cat.codes\n",
    "df[\"dept_id\"] = df[\"dept_id\"].cat.codes\n",
    "df[\"cat_id\"] = df[\"cat_id\"].cat.codes\n",
    "df[\"store_id\"] = df[\"store_id\"].cat.codes\n",
    "df[\"state_id\"] = df[\"state_id\"].cat.codes\n",
    "df[\"event_name_1\"] = df[\"event_name_1\"].cat.codes\n",
    "df[\"event_type_1\"] = df[\"event_type_1\"].cat.codes"
   ]
  },
  {
   "cell_type": "code",
   "execution_count": 56,
   "id": "e248ab83",
   "metadata": {
    "execution": {
     "iopub.execute_input": "2023-05-29T09:35:29.303171Z",
     "iopub.status.busy": "2023-05-29T09:35:29.302477Z",
     "iopub.status.idle": "2023-05-29T09:36:03.227768Z",
     "shell.execute_reply": "2023-05-29T09:36:03.226438Z"
    },
    "papermill": {
     "duration": 33.94835,
     "end_time": "2023-05-29T09:36:03.239604",
     "exception": false,
     "start_time": "2023-05-29T09:35:29.291254",
     "status": "completed"
    },
    "tags": []
   },
   "outputs": [
    {
     "name": "stdout",
     "output_type": "stream",
     "text": [
      "Mean Encoding\n",
      "Wall time: 40.7 s\n"
     ]
    }
   ],
   "source": [
    "%%time\n",
    "print(\"Mean Encoding\")\n",
    "df[\"state_mean\"] = df.groupby(\"state_id\")[\"sold\"].transform(\"mean\").astype(np.float16)\n",
    "df[\"store_mean\"] = df.groupby(\"store_id\")[\"sold\"].transform(\"mean\").astype(np.float16)\n",
    "df[\"cat_mean\"] = df.groupby(\"cat_id\")[\"sold\"].transform(\"mean\").astype(np.float16)\n",
    "df[\"dept_mean\"] = df.groupby(\"dept_id\")[\"sold\"].transform(\"mean\").astype(np.float16)\n",
    "df[\"state_cat_mean\"] = df.groupby([\"state_id\", \"cat_id\"])[\"sold\"].transform(\"mean\").astype(np.float16)\n",
    "df[\"state_dept_mean\"] = df.groupby([\"state_id\", \"dept_id\"])[\"sold\"].transform(\"mean\").astype(np.float16)\n",
    "df[\"store_cat_mean\"] = df.groupby([\"store_id\", \"cat_id\"])[\"sold\"].transform(\"mean\").astype(np.float16)\n",
    "df[\"store_cat_mean\"] = df.groupby([\"dept_id\", \"cat_id\"])[\"sold\"].transform(\"mean\").astype(np.float16)\n",
    "df[\"item_id_mean\"] = df.groupby(\"item_id\")[\"sold\"].transform(\"mean\").astype(np.float16)\n",
    "df[\"item_state_mean\"] = df.groupby([\"item_id\", \"state_id\"])[\"sold\"].transform(\"mean\").astype(np.float16)\n",
    "df[\"item_store_mean\"] = df.groupby([\"item_id\", \"store_id\"])[\"sold\"].transform(\"mean\").astype(np.float16)"
   ]
  },
  {
   "cell_type": "code",
   "execution_count": 57,
   "id": "6578d559",
   "metadata": {
    "execution": {
     "iopub.execute_input": "2023-05-29T09:36:03.260331Z",
     "iopub.status.busy": "2023-05-29T09:36:03.259936Z",
     "iopub.status.idle": "2023-05-29T09:38:29.760194Z",
     "shell.execute_reply": "2023-05-29T09:38:29.758768Z"
    },
    "papermill": {
     "duration": 146.522809,
     "end_time": "2023-05-29T09:38:29.771975",
     "exception": false,
     "start_time": "2023-05-29T09:36:03.249166",
     "status": "completed"
    },
    "tags": []
   },
   "outputs": [
    {
     "name": "stdout",
     "output_type": "stream",
     "text": [
      "Calulating Lags\n",
      "Wall time: 2min 21s\n"
     ]
    }
   ],
   "source": [
    "%%time\n",
    "print(\"Calulating Lags\")\n",
    "lags = [29,30,31,32,33,34,35,40,55,60,65,180]\n",
    "for lag in lags:\n",
    "    df['sold_lag_'+str(lag)] = df.groupby(['id', 'item_id', 'dept_id', 'cat_id', 'store_id', 'state_id'],as_index=False)['sold'].shift(lag).astype(np.float16)"
   ]
  },
  {
   "cell_type": "code",
   "execution_count": 58,
   "id": "1f1db56b",
   "metadata": {
    "execution": {
     "iopub.execute_input": "2023-05-29T09:38:29.793256Z",
     "iopub.status.busy": "2023-05-29T09:38:29.792570Z",
     "iopub.status.idle": "2023-05-29T09:38:44.419016Z",
     "shell.execute_reply": "2023-05-29T09:38:44.418178Z"
    },
    "papermill": {
     "duration": 14.640024,
     "end_time": "2023-05-29T09:38:44.421505",
     "exception": false,
     "start_time": "2023-05-29T09:38:29.781481",
     "status": "completed"
    },
    "tags": []
   },
   "outputs": [],
   "source": [
    "df = df[df['d']>max(lags)]"
   ]
  },
  {
   "cell_type": "code",
   "execution_count": 59,
   "id": "650deef6",
   "metadata": {
    "execution": {
     "iopub.execute_input": "2023-05-29T09:38:44.443446Z",
     "iopub.status.busy": "2023-05-29T09:38:44.442787Z",
     "iopub.status.idle": "2023-05-29T09:38:48.382429Z",
     "shell.execute_reply": "2023-05-29T09:38:48.381289Z"
    },
    "papermill": {
     "duration": 3.953264,
     "end_time": "2023-05-29T09:38:48.385029",
     "exception": false,
     "start_time": "2023-05-29T09:38:44.431765",
     "status": "completed"
    },
    "tags": []
   },
   "outputs": [
    {
     "data": {
      "text/plain": [
       "0"
      ]
     },
     "execution_count": 59,
     "metadata": {},
     "output_type": "execute_result"
    }
   ],
   "source": [
    "df.to_pickle('data.pkl')\n",
    "del df, calendar, sell_prices, train_eva\n",
    "gc.collect()"
   ]
  },
  {
   "cell_type": "code",
   "execution_count": 60,
   "id": "f028f009",
   "metadata": {
    "execution": {
     "iopub.execute_input": "2023-05-29T09:38:48.466771Z",
     "iopub.status.busy": "2023-05-29T09:38:48.462748Z",
     "iopub.status.idle": "2023-05-29T09:38:48.485010Z",
     "shell.execute_reply": "2023-05-29T09:38:48.483594Z"
    },
    "papermill": {
     "duration": 0.076003,
     "end_time": "2023-05-29T09:38:48.487898",
     "exception": false,
     "start_time": "2023-05-29T09:38:48.411895",
     "status": "completed"
    },
    "tags": []
   },
   "outputs": [],
   "source": [
    "# Build model GBM\n",
    "def lightgbm_model(X_train, y_train, X_valid, y_valid):\n",
    "    model = LGBMRegressor(\n",
    "        n_estimators=1000,\n",
    "        learning_rate=0.3,\n",
    "        subsample=0.8,\n",
    "        colsample_bytree=0.8,\n",
    "        max_depth=8,\n",
    "        num_leaves=224,\n",
    "        min_child_weight=300\n",
    "    )\n",
    "        \n",
    "    model.fit(X_train, y_train, \n",
    "          eval_set=[(X_train,y_train),(X_valid,y_valid)], \n",
    "          verbose=20, \n",
    "          early_stopping_rounds=20,\n",
    "          eval_metric='rmse')\n",
    "    \n",
    "    return model\n",
    "\n",
    "def xgboost_model(X_train, y_train, X_valid, y_valid):\n",
    "    model = XGBRegressor(\n",
    "        n_estimators=1000,\n",
    "        learning_rate=0.3,\n",
    "        subsample=0.8,\n",
    "        colsample_bytree=0.8,\n",
    "        max_depth=8,\n",
    "        min_child_weight=300\n",
    "    )\n",
    "\n",
    "    model.fit(X_train, y_train,\n",
    "              eval_set=[(X_train, y_train), (X_valid, y_valid)],\n",
    "              verbose=20,\n",
    "              early_stopping_rounds=20,\n",
    "              eval_metric='rmse')\n",
    "\n",
    "    return model\n",
    "\n",
    "def catboost_model(X_train, y_train, X_valid, y_valid):\n",
    "    \n",
    "    model = CatBoostRegressor(\n",
    "        iterations=1000,\n",
    "        learning_rate=0.3,\n",
    "        subsample=0.8,\n",
    "        colsample_bylevel=0.8,\n",
    "        depth=8,\n",
    "        l2_leaf_reg=224,\n",
    "        min_child_samples=300,\n",
    "        eval_metric='RMSE'\n",
    "    )\n",
    "    \n",
    "    model.fit(X_train, y_train, eval_set=[(X_train,y_train),(X_valid,y_valid)],\n",
    "              verbose=20, early_stopping_rounds=20)\n",
    "    \n",
    "    return model"
   ]
  },
  {
   "cell_type": "code",
   "execution_count": 61,
   "id": "cae0d29d",
   "metadata": {
    "execution": {
     "iopub.execute_input": "2023-05-29T09:38:48.571171Z",
     "iopub.status.busy": "2023-05-29T09:38:48.570433Z",
     "iopub.status.idle": "2023-05-29T09:38:51.449498Z",
     "shell.execute_reply": "2023-05-29T09:38:51.448389Z"
    },
    "papermill": {
     "duration": 2.936145,
     "end_time": "2023-05-29T09:38:51.452149",
     "exception": false,
     "start_time": "2023-05-29T09:38:48.516004",
     "status": "completed"
    },
    "tags": []
   },
   "outputs": [
    {
     "name": "stdout",
     "output_type": "stream",
     "text": [
      "Wall time: 2.32 s\n"
     ]
    }
   ],
   "source": [
    "%%time\n",
    "data = pd.read_pickle('data.pkl')\n",
    "valid = data[(data['d']>=1914) & (data['d']<1942)][['id','d','sold']]\n",
    "test = data[data['d']>=1942][['id','d','sold']]"
   ]
  },
  {
   "cell_type": "code",
   "execution_count": 62,
   "id": "58864a22",
   "metadata": {
    "execution": {
     "iopub.execute_input": "2023-05-29T09:39:00.308175Z",
     "iopub.status.busy": "2023-05-29T09:39:00.305822Z",
     "iopub.status.idle": "2023-05-29T09:45:01.211905Z",
     "shell.execute_reply": "2023-05-29T09:45:01.210682Z"
    },
    "papermill": {
     "duration": 360.963584,
     "end_time": "2023-05-29T09:45:01.214624",
     "exception": false,
     "start_time": "2023-05-29T09:39:00.251040",
     "status": "completed"
    },
    "tags": []
   },
   "outputs": [
    {
     "name": "stdout",
     "output_type": "stream",
     "text": [
      "Train model for store 0\n",
      "--------\n",
      "[20]\ttraining's rmse: 2.50232\ttraining's l2: 6.26161\tvalid_1's rmse: 2.29141\tvalid_1's l2: 5.25057\n",
      "[40]\ttraining's rmse: 2.48014\ttraining's l2: 6.15111\tvalid_1's rmse: 2.29437\tvalid_1's l2: 5.26414\n",
      "[60]\ttraining's rmse: 2.45214\ttraining's l2: 6.013\tvalid_1's rmse: 2.28593\tvalid_1's l2: 5.22547\n",
      "--------\n",
      "Predicting for store 0\n",
      "--------\n",
      "Saving model and clear memories\n",
      "--------\n",
      "Train model for store 1\n",
      "--------\n",
      "[20]\ttraining's rmse: 1.88199\ttraining's l2: 3.54189\tvalid_1's rmse: 2.09477\tvalid_1's l2: 4.38808\n",
      "[40]\ttraining's rmse: 1.85842\ttraining's l2: 3.45374\tvalid_1's rmse: 2.08817\tvalid_1's l2: 4.36046\n",
      "--------\n",
      "Predicting for store 1\n",
      "--------\n",
      "Saving model and clear memories\n",
      "--------\n",
      "Train model for store 2\n",
      "--------\n",
      "[20]\ttraining's rmse: 3.56822\ttraining's l2: 12.7322\tvalid_1's rmse: 2.81766\tvalid_1's l2: 7.93922\n",
      "--------\n",
      "Predicting for store 2\n",
      "--------\n",
      "Saving model and clear memories\n",
      "--------\n",
      "Train model for store 3\n",
      "--------\n",
      "[20]\ttraining's rmse: 1.43526\ttraining's l2: 2.05998\tvalid_1's rmse: 1.46953\tvalid_1's l2: 2.15952\n",
      "[40]\ttraining's rmse: 1.42647\ttraining's l2: 2.03481\tvalid_1's rmse: 1.46532\tvalid_1's l2: 2.14716\n",
      "[60]\ttraining's rmse: 1.42139\ttraining's l2: 2.02036\tvalid_1's rmse: 1.4656\tvalid_1's l2: 2.14799\n",
      "--------\n",
      "Predicting for store 3\n",
      "--------\n",
      "Saving model and clear memories\n",
      "--------\n",
      "Train model for store 4\n",
      "--------\n",
      "[20]\ttraining's rmse: 2.05608\ttraining's l2: 4.22747\tvalid_1's rmse: 1.86097\tvalid_1's l2: 3.46321\n",
      "[40]\ttraining's rmse: 2.03713\ttraining's l2: 4.14989\tvalid_1's rmse: 1.84758\tvalid_1's l2: 3.41354\n",
      "[60]\ttraining's rmse: 2.02463\ttraining's l2: 4.09912\tvalid_1's rmse: 1.85072\tvalid_1's l2: 3.42518\n",
      "--------\n",
      "Predicting for store 4\n",
      "--------\n",
      "Saving model and clear memories\n",
      "--------\n",
      "Train model for store 5\n",
      "--------\n",
      "[20]\ttraining's rmse: 2.49377\ttraining's l2: 6.2189\tvalid_1's rmse: 2.00034\tvalid_1's l2: 4.00135\n",
      "--------\n",
      "Predicting for store 5\n",
      "--------\n",
      "Saving model and clear memories\n",
      "--------\n",
      "Train model for store 6\n",
      "--------\n",
      "[20]\ttraining's rmse: 2.15779\ttraining's l2: 4.65605\tvalid_1's rmse: 2.12283\tvalid_1's l2: 4.5064\n",
      "[40]\ttraining's rmse: 2.12109\ttraining's l2: 4.49904\tvalid_1's rmse: 2.11922\tvalid_1's l2: 4.49108\n",
      "[60]\ttraining's rmse: 2.09766\ttraining's l2: 4.40017\tvalid_1's rmse: 2.12265\tvalid_1's l2: 4.50565\n",
      "--------\n",
      "Predicting for store 6\n",
      "--------\n",
      "Saving model and clear memories\n",
      "--------\n",
      "Train model for store 7\n",
      "--------\n",
      "[20]\ttraining's rmse: 1.62545\ttraining's l2: 2.64209\tvalid_1's rmse: 1.7599\tvalid_1's l2: 3.09724\n",
      "[40]\ttraining's rmse: 1.60903\ttraining's l2: 2.58897\tvalid_1's rmse: 1.75513\tvalid_1's l2: 3.0805\n",
      "[60]\ttraining's rmse: 1.5991\ttraining's l2: 2.55712\tvalid_1's rmse: 1.75044\tvalid_1's l2: 3.06405\n",
      "[80]\ttraining's rmse: 1.5902\ttraining's l2: 2.52874\tvalid_1's rmse: 1.74717\tvalid_1's l2: 3.05262\n",
      "[100]\ttraining's rmse: 1.57656\ttraining's l2: 2.48553\tvalid_1's rmse: 1.74352\tvalid_1's l2: 3.03986\n",
      "[120]\ttraining's rmse: 1.56698\ttraining's l2: 2.45543\tvalid_1's rmse: 1.74252\tvalid_1's l2: 3.03636\n",
      "--------\n",
      "Predicting for store 7\n",
      "--------\n",
      "Saving model and clear memories\n",
      "--------\n",
      "Train model for store 8\n",
      "--------\n",
      "[20]\ttraining's rmse: 2.67152\ttraining's l2: 7.13701\tvalid_1's rmse: 3.05972\tvalid_1's l2: 9.3619\n",
      "--------\n",
      "Predicting for store 8\n",
      "--------\n",
      "Saving model and clear memories\n",
      "--------\n",
      "Train model for store 9\n",
      "--------\n",
      "[20]\ttraining's rmse: 2.39174\ttraining's l2: 5.72042\tvalid_1's rmse: 2.14936\tvalid_1's l2: 4.61974\n",
      "--------\n",
      "Predicting for store 9\n",
      "--------\n",
      "Saving model and clear memories\n",
      "--------\n",
      "Wall time: 3min 10s\n"
     ]
    }
   ],
   "source": [
    "%%time\n",
    "for i in range(10):\n",
    "    df = data[data[\"store_id\"] == i]    \n",
    "    #Create train set\n",
    "    X_train, y_train = df[df['d']<1914].drop('sold',axis=1), df[df['d']<1914]['sold']\n",
    "    X_valid, y_valid = df[(df['d']>=1914) & (df['d']<1942)].drop('sold',axis=1), df[(df['d']>=1914) & (df['d']<1942)]['sold']\n",
    "    X_test = df[df[\"d\"] >= 1942].drop(\"sold\", axis=1)\n",
    "       \n",
    "    # Create model\n",
    "    print(f\"Train model for store {i}\")\n",
    "    print(\"--------\")\n",
    "    \n",
    "    model = lightgbm_model(X_train, y_train, X_valid, y_valid)\n",
    "    #model = xgboost_model(X_train, y_train, X_valid, y_valid)\n",
    "    #model = catboost_model(X_train, y_train, X_valid, y_valid)\n",
    "    \n",
    "    print(\"--------\")\n",
    "    print(f\"Predicting for store {i}\")    \n",
    "    # Validation predict\n",
    "    pred_val = model.predict(X_valid)\n",
    "    valid.loc[X_valid.index, \"sold\"] = pred_val\n",
    "    pred_eva = model.predict(X_test)\n",
    "    test.loc[X_test.index, \"sold\"] = pred_eva   \n",
    "    print(\"--------\")\n",
    "    \n",
    "    print(\"Saving model and clear memories\")  \n",
    "    print(\"--------\")\n",
    "    filename = f'model_store_{i}.pkl'\n",
    "    # Save model and Clear memmory\n",
    "    joblib.dump(model, filename)\n",
    "    del model, X_train, y_train, X_valid, y_valid, X_test\n",
    "    gc.collect()"
   ]
  },
  {
   "cell_type": "code",
   "execution_count": 63,
   "id": "dd78e049",
   "metadata": {
    "execution": {
     "iopub.execute_input": "2023-05-29T09:45:01.247186Z",
     "iopub.status.busy": "2023-05-29T09:45:01.246778Z",
     "iopub.status.idle": "2023-05-29T09:45:02.455157Z",
     "shell.execute_reply": "2023-05-29T09:45:02.454081Z"
    },
    "papermill": {
     "duration": 1.227314,
     "end_time": "2023-05-29T09:45:02.457809",
     "exception": false,
     "start_time": "2023-05-29T09:45:01.230495",
     "status": "completed"
    },
    "tags": []
   },
   "outputs": [],
   "source": [
    "sample_sub = sample_sub[[\"id\"]]\n",
    "f_col = [f\"F{i}\" for i in range(1,29)]\n",
    "f_col.insert(0, \"id\")\n",
    "\n",
    "valid[\"id\"] = valid[\"id\"].map(d_id)\n",
    "valid = valid.pivot(index=\"id\", columns=\"d\", values=\"sold\").reset_index()\n",
    "valid[\"id\"] = valid[\"id\"].str.replace(\"evaluation\", \"validation\")\n",
    "out_val = pd.merge(left=sample_sub[:30490], right=valid, on=\"id\")\n",
    "out_val.columns=f_col\n",
    "\n",
    "test[\"id\"] = test[\"id\"].map(d_id)\n",
    "test = test.pivot(index=\"id\", columns=\"d\", values=\"sold\").reset_index()\n",
    "out_eva = pd.merge(left=sample_sub[30490:], right=test, on=\"id\")\n",
    "out_eva.columns=f_col\n",
    "\n",
    "submit = pd.concat([out_val,out_eva], ignore_index=True)"
   ]
  },
  {
   "cell_type": "code",
   "execution_count": 64,
   "id": "daeb530f",
   "metadata": {
    "execution": {
     "iopub.execute_input": "2023-05-29T09:45:02.488838Z",
     "iopub.status.busy": "2023-05-29T09:45:02.487725Z",
     "iopub.status.idle": "2023-05-29T09:45:02.550481Z",
     "shell.execute_reply": "2023-05-29T09:45:02.549357Z"
    },
    "papermill": {
     "duration": 0.080838,
     "end_time": "2023-05-29T09:45:02.552986",
     "exception": false,
     "start_time": "2023-05-29T09:45:02.472148",
     "status": "completed"
    },
    "tags": []
   },
   "outputs": [
    {
     "data": {
      "text/html": [
       "<div>\n",
       "<style scoped>\n",
       "    .dataframe tbody tr th:only-of-type {\n",
       "        vertical-align: middle;\n",
       "    }\n",
       "\n",
       "    .dataframe tbody tr th {\n",
       "        vertical-align: top;\n",
       "    }\n",
       "\n",
       "    .dataframe thead th {\n",
       "        text-align: right;\n",
       "    }\n",
       "</style>\n",
       "<table border=\"1\" class=\"dataframe\">\n",
       "  <thead>\n",
       "    <tr style=\"text-align: right;\">\n",
       "      <th></th>\n",
       "      <th>id</th>\n",
       "      <th>F1</th>\n",
       "      <th>F2</th>\n",
       "      <th>F3</th>\n",
       "      <th>F4</th>\n",
       "      <th>F5</th>\n",
       "      <th>F6</th>\n",
       "      <th>F7</th>\n",
       "      <th>F8</th>\n",
       "      <th>F9</th>\n",
       "      <th>...</th>\n",
       "      <th>F19</th>\n",
       "      <th>F20</th>\n",
       "      <th>F21</th>\n",
       "      <th>F22</th>\n",
       "      <th>F23</th>\n",
       "      <th>F24</th>\n",
       "      <th>F25</th>\n",
       "      <th>F26</th>\n",
       "      <th>F27</th>\n",
       "      <th>F28</th>\n",
       "    </tr>\n",
       "  </thead>\n",
       "  <tbody>\n",
       "    <tr>\n",
       "      <th>0</th>\n",
       "      <td>HOBBIES_1_001_CA_1_validation</td>\n",
       "      <td>0.786135</td>\n",
       "      <td>0.728051</td>\n",
       "      <td>0.527789</td>\n",
       "      <td>0.406478</td>\n",
       "      <td>0.463081</td>\n",
       "      <td>0.540610</td>\n",
       "      <td>0.575017</td>\n",
       "      <td>0.483143</td>\n",
       "      <td>0.384837</td>\n",
       "      <td>...</td>\n",
       "      <td>0.432239</td>\n",
       "      <td>0.617943</td>\n",
       "      <td>1.107375</td>\n",
       "      <td>0.606690</td>\n",
       "      <td>0.510896</td>\n",
       "      <td>0.421307</td>\n",
       "      <td>0.472486</td>\n",
       "      <td>0.788749</td>\n",
       "      <td>0.776618</td>\n",
       "      <td>0.753751</td>\n",
       "    </tr>\n",
       "    <tr>\n",
       "      <th>1</th>\n",
       "      <td>HOBBIES_1_002_CA_1_validation</td>\n",
       "      <td>0.503977</td>\n",
       "      <td>0.407383</td>\n",
       "      <td>0.359599</td>\n",
       "      <td>0.376526</td>\n",
       "      <td>0.367939</td>\n",
       "      <td>0.547303</td>\n",
       "      <td>0.429715</td>\n",
       "      <td>0.275735</td>\n",
       "      <td>0.280935</td>\n",
       "      <td>...</td>\n",
       "      <td>0.231927</td>\n",
       "      <td>0.345218</td>\n",
       "      <td>0.281747</td>\n",
       "      <td>0.230204</td>\n",
       "      <td>0.184587</td>\n",
       "      <td>0.242087</td>\n",
       "      <td>0.310907</td>\n",
       "      <td>0.334031</td>\n",
       "      <td>0.408080</td>\n",
       "      <td>0.370977</td>\n",
       "    </tr>\n",
       "    <tr>\n",
       "      <th>2</th>\n",
       "      <td>HOBBIES_1_003_CA_1_validation</td>\n",
       "      <td>0.319535</td>\n",
       "      <td>0.234652</td>\n",
       "      <td>0.227216</td>\n",
       "      <td>0.235839</td>\n",
       "      <td>0.336530</td>\n",
       "      <td>0.263868</td>\n",
       "      <td>0.270713</td>\n",
       "      <td>0.304734</td>\n",
       "      <td>0.207785</td>\n",
       "      <td>...</td>\n",
       "      <td>0.385486</td>\n",
       "      <td>0.629181</td>\n",
       "      <td>0.555395</td>\n",
       "      <td>0.563939</td>\n",
       "      <td>0.445006</td>\n",
       "      <td>0.484341</td>\n",
       "      <td>0.526423</td>\n",
       "      <td>0.501844</td>\n",
       "      <td>0.483560</td>\n",
       "      <td>0.390987</td>\n",
       "    </tr>\n",
       "    <tr>\n",
       "      <th>3</th>\n",
       "      <td>HOBBIES_1_004_CA_1_validation</td>\n",
       "      <td>2.822900</td>\n",
       "      <td>2.327582</td>\n",
       "      <td>1.802434</td>\n",
       "      <td>1.908198</td>\n",
       "      <td>1.634016</td>\n",
       "      <td>3.275526</td>\n",
       "      <td>2.752721</td>\n",
       "      <td>1.742862</td>\n",
       "      <td>1.747454</td>\n",
       "      <td>...</td>\n",
       "      <td>2.126269</td>\n",
       "      <td>3.017091</td>\n",
       "      <td>2.932041</td>\n",
       "      <td>2.217398</td>\n",
       "      <td>2.064761</td>\n",
       "      <td>1.876366</td>\n",
       "      <td>1.635029</td>\n",
       "      <td>2.111130</td>\n",
       "      <td>3.148377</td>\n",
       "      <td>3.708240</td>\n",
       "    </tr>\n",
       "    <tr>\n",
       "      <th>4</th>\n",
       "      <td>HOBBIES_1_005_CA_1_validation</td>\n",
       "      <td>1.020217</td>\n",
       "      <td>0.964287</td>\n",
       "      <td>0.731538</td>\n",
       "      <td>0.811685</td>\n",
       "      <td>1.260453</td>\n",
       "      <td>1.875267</td>\n",
       "      <td>1.699542</td>\n",
       "      <td>1.467668</td>\n",
       "      <td>0.911569</td>\n",
       "      <td>...</td>\n",
       "      <td>1.178146</td>\n",
       "      <td>1.383973</td>\n",
       "      <td>1.368659</td>\n",
       "      <td>0.992045</td>\n",
       "      <td>0.805172</td>\n",
       "      <td>0.904184</td>\n",
       "      <td>0.893554</td>\n",
       "      <td>0.947279</td>\n",
       "      <td>1.446944</td>\n",
       "      <td>1.448625</td>\n",
       "    </tr>\n",
       "    <tr>\n",
       "      <th>...</th>\n",
       "      <td>...</td>\n",
       "      <td>...</td>\n",
       "      <td>...</td>\n",
       "      <td>...</td>\n",
       "      <td>...</td>\n",
       "      <td>...</td>\n",
       "      <td>...</td>\n",
       "      <td>...</td>\n",
       "      <td>...</td>\n",
       "      <td>...</td>\n",
       "      <td>...</td>\n",
       "      <td>...</td>\n",
       "      <td>...</td>\n",
       "      <td>...</td>\n",
       "      <td>...</td>\n",
       "      <td>...</td>\n",
       "      <td>...</td>\n",
       "      <td>...</td>\n",
       "      <td>...</td>\n",
       "      <td>...</td>\n",
       "      <td>...</td>\n",
       "    </tr>\n",
       "    <tr>\n",
       "      <th>60975</th>\n",
       "      <td>FOODS_3_823_WI_3_evaluation</td>\n",
       "      <td>0.448699</td>\n",
       "      <td>0.399818</td>\n",
       "      <td>0.531386</td>\n",
       "      <td>0.414390</td>\n",
       "      <td>0.549958</td>\n",
       "      <td>0.759865</td>\n",
       "      <td>0.710720</td>\n",
       "      <td>0.436329</td>\n",
       "      <td>0.506145</td>\n",
       "      <td>...</td>\n",
       "      <td>0.534572</td>\n",
       "      <td>0.650440</td>\n",
       "      <td>0.678134</td>\n",
       "      <td>0.599150</td>\n",
       "      <td>0.520929</td>\n",
       "      <td>0.603879</td>\n",
       "      <td>0.528376</td>\n",
       "      <td>0.596878</td>\n",
       "      <td>0.610829</td>\n",
       "      <td>1.019984</td>\n",
       "    </tr>\n",
       "    <tr>\n",
       "      <th>60976</th>\n",
       "      <td>FOODS_3_824_WI_3_evaluation</td>\n",
       "      <td>0.260568</td>\n",
       "      <td>0.348292</td>\n",
       "      <td>0.360092</td>\n",
       "      <td>0.368051</td>\n",
       "      <td>0.471454</td>\n",
       "      <td>0.585071</td>\n",
       "      <td>0.600402</td>\n",
       "      <td>0.330000</td>\n",
       "      <td>0.420239</td>\n",
       "      <td>...</td>\n",
       "      <td>0.240936</td>\n",
       "      <td>0.283336</td>\n",
       "      <td>0.448888</td>\n",
       "      <td>0.264552</td>\n",
       "      <td>0.385552</td>\n",
       "      <td>0.251743</td>\n",
       "      <td>0.219005</td>\n",
       "      <td>0.365051</td>\n",
       "      <td>0.326021</td>\n",
       "      <td>0.417642</td>\n",
       "    </tr>\n",
       "    <tr>\n",
       "      <th>60977</th>\n",
       "      <td>FOODS_3_825_WI_3_evaluation</td>\n",
       "      <td>0.687490</td>\n",
       "      <td>0.626359</td>\n",
       "      <td>0.720826</td>\n",
       "      <td>0.694032</td>\n",
       "      <td>0.666852</td>\n",
       "      <td>0.822224</td>\n",
       "      <td>1.023392</td>\n",
       "      <td>0.728530</td>\n",
       "      <td>0.819418</td>\n",
       "      <td>...</td>\n",
       "      <td>1.234014</td>\n",
       "      <td>1.084901</td>\n",
       "      <td>1.134413</td>\n",
       "      <td>1.103861</td>\n",
       "      <td>1.121025</td>\n",
       "      <td>0.875806</td>\n",
       "      <td>0.597211</td>\n",
       "      <td>0.684677</td>\n",
       "      <td>0.917394</td>\n",
       "      <td>1.143785</td>\n",
       "    </tr>\n",
       "    <tr>\n",
       "      <th>60978</th>\n",
       "      <td>FOODS_3_826_WI_3_evaluation</td>\n",
       "      <td>0.739777</td>\n",
       "      <td>0.761018</td>\n",
       "      <td>0.884794</td>\n",
       "      <td>0.725942</td>\n",
       "      <td>1.116817</td>\n",
       "      <td>0.862807</td>\n",
       "      <td>1.135681</td>\n",
       "      <td>0.716268</td>\n",
       "      <td>0.749625</td>\n",
       "      <td>...</td>\n",
       "      <td>0.717093</td>\n",
       "      <td>1.099658</td>\n",
       "      <td>0.713096</td>\n",
       "      <td>0.657718</td>\n",
       "      <td>0.673710</td>\n",
       "      <td>0.828179</td>\n",
       "      <td>0.704058</td>\n",
       "      <td>0.837016</td>\n",
       "      <td>1.302728</td>\n",
       "      <td>0.843008</td>\n",
       "    </tr>\n",
       "    <tr>\n",
       "      <th>60979</th>\n",
       "      <td>FOODS_3_827_WI_3_evaluation</td>\n",
       "      <td>0.555782</td>\n",
       "      <td>0.544015</td>\n",
       "      <td>0.454089</td>\n",
       "      <td>0.650260</td>\n",
       "      <td>1.019382</td>\n",
       "      <td>0.707179</td>\n",
       "      <td>0.778243</td>\n",
       "      <td>0.695549</td>\n",
       "      <td>0.797110</td>\n",
       "      <td>...</td>\n",
       "      <td>1.024954</td>\n",
       "      <td>0.909239</td>\n",
       "      <td>1.044561</td>\n",
       "      <td>0.732794</td>\n",
       "      <td>0.676429</td>\n",
       "      <td>1.255267</td>\n",
       "      <td>0.831605</td>\n",
       "      <td>1.001952</td>\n",
       "      <td>1.392295</td>\n",
       "      <td>1.450014</td>\n",
       "    </tr>\n",
       "  </tbody>\n",
       "</table>\n",
       "<p>60980 rows × 29 columns</p>\n",
       "</div>"
      ],
      "text/plain": [
       "                                  id        F1        F2        F3        F4  \\\n",
       "0      HOBBIES_1_001_CA_1_validation  0.786135  0.728051  0.527789  0.406478   \n",
       "1      HOBBIES_1_002_CA_1_validation  0.503977  0.407383  0.359599  0.376526   \n",
       "2      HOBBIES_1_003_CA_1_validation  0.319535  0.234652  0.227216  0.235839   \n",
       "3      HOBBIES_1_004_CA_1_validation  2.822900  2.327582  1.802434  1.908198   \n",
       "4      HOBBIES_1_005_CA_1_validation  1.020217  0.964287  0.731538  0.811685   \n",
       "...                              ...       ...       ...       ...       ...   \n",
       "60975    FOODS_3_823_WI_3_evaluation  0.448699  0.399818  0.531386  0.414390   \n",
       "60976    FOODS_3_824_WI_3_evaluation  0.260568  0.348292  0.360092  0.368051   \n",
       "60977    FOODS_3_825_WI_3_evaluation  0.687490  0.626359  0.720826  0.694032   \n",
       "60978    FOODS_3_826_WI_3_evaluation  0.739777  0.761018  0.884794  0.725942   \n",
       "60979    FOODS_3_827_WI_3_evaluation  0.555782  0.544015  0.454089  0.650260   \n",
       "\n",
       "             F5        F6        F7        F8        F9  ...       F19  \\\n",
       "0      0.463081  0.540610  0.575017  0.483143  0.384837  ...  0.432239   \n",
       "1      0.367939  0.547303  0.429715  0.275735  0.280935  ...  0.231927   \n",
       "2      0.336530  0.263868  0.270713  0.304734  0.207785  ...  0.385486   \n",
       "3      1.634016  3.275526  2.752721  1.742862  1.747454  ...  2.126269   \n",
       "4      1.260453  1.875267  1.699542  1.467668  0.911569  ...  1.178146   \n",
       "...         ...       ...       ...       ...       ...  ...       ...   \n",
       "60975  0.549958  0.759865  0.710720  0.436329  0.506145  ...  0.534572   \n",
       "60976  0.471454  0.585071  0.600402  0.330000  0.420239  ...  0.240936   \n",
       "60977  0.666852  0.822224  1.023392  0.728530  0.819418  ...  1.234014   \n",
       "60978  1.116817  0.862807  1.135681  0.716268  0.749625  ...  0.717093   \n",
       "60979  1.019382  0.707179  0.778243  0.695549  0.797110  ...  1.024954   \n",
       "\n",
       "            F20       F21       F22       F23       F24       F25       F26  \\\n",
       "0      0.617943  1.107375  0.606690  0.510896  0.421307  0.472486  0.788749   \n",
       "1      0.345218  0.281747  0.230204  0.184587  0.242087  0.310907  0.334031   \n",
       "2      0.629181  0.555395  0.563939  0.445006  0.484341  0.526423  0.501844   \n",
       "3      3.017091  2.932041  2.217398  2.064761  1.876366  1.635029  2.111130   \n",
       "4      1.383973  1.368659  0.992045  0.805172  0.904184  0.893554  0.947279   \n",
       "...         ...       ...       ...       ...       ...       ...       ...   \n",
       "60975  0.650440  0.678134  0.599150  0.520929  0.603879  0.528376  0.596878   \n",
       "60976  0.283336  0.448888  0.264552  0.385552  0.251743  0.219005  0.365051   \n",
       "60977  1.084901  1.134413  1.103861  1.121025  0.875806  0.597211  0.684677   \n",
       "60978  1.099658  0.713096  0.657718  0.673710  0.828179  0.704058  0.837016   \n",
       "60979  0.909239  1.044561  0.732794  0.676429  1.255267  0.831605  1.001952   \n",
       "\n",
       "            F27       F28  \n",
       "0      0.776618  0.753751  \n",
       "1      0.408080  0.370977  \n",
       "2      0.483560  0.390987  \n",
       "3      3.148377  3.708240  \n",
       "4      1.446944  1.448625  \n",
       "...         ...       ...  \n",
       "60975  0.610829  1.019984  \n",
       "60976  0.326021  0.417642  \n",
       "60977  0.917394  1.143785  \n",
       "60978  1.302728  0.843008  \n",
       "60979  1.392295  1.450014  \n",
       "\n",
       "[60980 rows x 29 columns]"
      ]
     },
     "execution_count": 64,
     "metadata": {},
     "output_type": "execute_result"
    }
   ],
   "source": [
    "submit"
   ]
  },
  {
   "cell_type": "code",
   "execution_count": 65,
   "id": "0814d734",
   "metadata": {
    "execution": {
     "iopub.execute_input": "2023-05-29T09:45:02.584879Z",
     "iopub.status.busy": "2023-05-29T09:45:02.584207Z",
     "iopub.status.idle": "2023-05-29T09:45:06.343526Z",
     "shell.execute_reply": "2023-05-29T09:45:06.342671Z"
    },
    "papermill": {
     "duration": 3.777994,
     "end_time": "2023-05-29T09:45:06.345981",
     "exception": false,
     "start_time": "2023-05-29T09:45:02.567987",
     "status": "completed"
    },
    "tags": []
   },
   "outputs": [],
   "source": [
    "submit.to_csv('submission.csv',index=False)"
   ]
  }
 ],
 "metadata": {
  "kernelspec": {
   "display_name": "Python 3 (ipykernel)",
   "language": "python",
   "name": "python3"
  },
  "language_info": {
   "codemirror_mode": {
    "name": "ipython",
    "version": 3
   },
   "file_extension": ".py",
   "mimetype": "text/x-python",
   "name": "python",
   "nbconvert_exporter": "python",
   "pygments_lexer": "ipython3",
   "version": "3.9.7"
  },
  "papermill": {
   "default_parameters": {},
   "duration": 905.258174,
   "end_time": "2023-05-29T09:45:08.004513",
   "environment_variables": {},
   "exception": null,
   "input_path": "__notebook__.ipynb",
   "output_path": "__notebook__.ipynb",
   "parameters": {},
   "start_time": "2023-05-29T09:30:02.746339",
   "version": "2.4.0"
  }
 },
 "nbformat": 4,
 "nbformat_minor": 5
}
